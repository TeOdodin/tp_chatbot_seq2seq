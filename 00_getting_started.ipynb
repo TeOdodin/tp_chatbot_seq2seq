{
 "cells": [
  {
   "cell_type": "markdown",
   "source": "# TP - Agents Conversationnels\n\n### Authors\n\nThéo DAUDIN, Noémie HENRY, Paul BERTIN, Julien PINCON\n\n",
   "metadata": {
    "cell_id": "3599f9d4-6666-4455-8015-de79af406f30",
    "deepnote_cell_type": "markdown"
   }
  },
  {
   "cell_type": "markdown",
   "source": "## Instructions partie pratique\n\n - Travail en groupe de 3 à 4 étudiant.e.s\n - **Objectif:** Réalisation rapide d’un  chatbot\n - **Modèle:** Seq2seq https://github.com/tensorlayer/seq2seq-chatbot\n - Source de données variable (Cornell, twitter, Gutenberg https://github.com/ricsinaruto/gutenberg-dialog)\n - Rapport de 4 pages maximum:\n\t- explication du modèle ou des modèles utilisés (architecture)\n\t- variation des (hyper)-paramètres\n\t- données utilisées\n\t- résultats obtenus\n\t- conclusion et perspectives d’utilisation et/ou de recherches\n\n## [Accéder au rapport](https://docs.google.com/document/d/11O_3wc9vJYEHj803iSQmO-h3pAqsCjCVNykn6Yrkxlc/edit?usp=sharing )\n",
   "metadata": {
    "tags": [],
    "cell_id": "00001-2993363a-a96b-496e-bd6f-6800368a43fb",
    "deepnote_cell_type": "markdown"
   }
  },
  {
   "cell_type": "code",
   "metadata": {
    "tags": [],
    "cell_id": "00003-a3396616-7eba-4045-8dac-4055012668be",
    "deepnote_to_be_reexecuted": false,
    "source_hash": "ec910c12",
    "execution_start": 1642858364696,
    "execution_millis": 24829,
    "deepnote_cell_type": "code"
   },
   "source": "!pip install tensorlayer",
   "outputs": [
    {
     "name": "stdout",
     "text": "Collecting tensorlayer\n  Downloading tensorlayer-2.2.3-py2.py3-none-any.whl (363 kB)\n\u001b[K     |████████████████████████████████| 363 kB 31.2 MB/s \n\u001b[?25hRequirement already satisfied: requests>=2.21.0 in /shared-libs/python3.7/py/lib/python3.7/site-packages (from tensorlayer) (2.26.0)\nRequirement already satisfied: wrapt>=1.11.1 in /shared-libs/python3.7/py/lib/python3.7/site-packages (from tensorlayer) (1.12.1)\nCollecting progressbar2>=3.39.3\n  Downloading progressbar2-4.0.0-py2.py3-none-any.whl (26 kB)\nRequirement already satisfied: scikit-learn>=0.21.0 in /shared-libs/python3.7/py/lib/python3.7/site-packages (from tensorlayer) (1.0.1)\nCollecting imageio>=2.5.0\n  Downloading imageio-2.14.0-py3-none-any.whl (3.3 MB)\n\u001b[K     |████████████████████████████████| 3.3 MB 10.4 MB/s \n\u001b[?25hRequirement already satisfied: scipy>=1.2.1 in /shared-libs/python3.7/py/lib/python3.7/site-packages (from tensorlayer) (1.7.3)\nRequirement already satisfied: h5py>=2.9 in /shared-libs/python3.7/py/lib/python3.7/site-packages (from tensorlayer) (2.10.0)\nRequirement already satisfied: numpy>=1.16 in /shared-libs/python3.7/py/lib/python3.7/site-packages (from tensorlayer) (1.19.5)\nCollecting cloudpickle>=0.8.1\n  Downloading cloudpickle-2.0.0-py3-none-any.whl (25 kB)\nCollecting scikit-image>=0.15.0\n  Downloading scikit_image-0.19.1-cp37-cp37m-manylinux_2_12_x86_64.manylinux2010_x86_64.whl (13.3 MB)\n\u001b[K     |████████████████████████████████| 13.3 MB 22.4 MB/s \n\u001b[?25hRequirement already satisfied: charset-normalizer~=2.0.0; python_version >= \"3\" in /shared-libs/python3.7/py-core/lib/python3.7/site-packages (from requests>=2.21.0->tensorlayer) (2.0.9)\nRequirement already satisfied: idna<4,>=2.5; python_version >= \"3\" in /shared-libs/python3.7/py-core/lib/python3.7/site-packages (from requests>=2.21.0->tensorlayer) (3.3)\nRequirement already satisfied: certifi>=2017.4.17 in /shared-libs/python3.7/py/lib/python3.7/site-packages (from requests>=2.21.0->tensorlayer) (2021.10.8)\nRequirement already satisfied: urllib3<1.27,>=1.21.1 in /shared-libs/python3.7/py/lib/python3.7/site-packages (from requests>=2.21.0->tensorlayer) (1.26.7)\nCollecting python-utils>=3.0.0\n  Downloading python_utils-3.1.0-py2.py3-none-any.whl (19 kB)\nRequirement already satisfied: joblib>=0.11 in /shared-libs/python3.7/py/lib/python3.7/site-packages (from scikit-learn>=0.21.0->tensorlayer) (1.1.0)\nRequirement already satisfied: threadpoolctl>=2.0.0 in /shared-libs/python3.7/py/lib/python3.7/site-packages (from scikit-learn>=0.21.0->tensorlayer) (3.0.0)\nRequirement already satisfied: pillow>=8.3.2 in /shared-libs/python3.7/py/lib/python3.7/site-packages (from imageio>=2.5.0->tensorlayer) (8.4.0)\nRequirement already satisfied: six in /shared-libs/python3.7/py-core/lib/python3.7/site-packages (from h5py>=2.9->tensorlayer) (1.16.0)\nRequirement already satisfied: packaging>=20.0 in /shared-libs/python3.7/py-core/lib/python3.7/site-packages (from scikit-image>=0.15.0->tensorlayer) (21.3)\nCollecting tifffile>=2019.7.26\n  Downloading tifffile-2021.11.2-py3-none-any.whl (178 kB)\n\u001b[K     |████████████████████████████████| 178 kB 23.1 MB/s \n\u001b[?25hCollecting PyWavelets>=1.1.1\n  Downloading PyWavelets-1.2.0-cp37-cp37m-manylinux_2_5_x86_64.manylinux1_x86_64.whl (6.1 MB)\n\u001b[K     |████████████████████████████████| 6.1 MB 52.9 MB/s \n\u001b[?25hCollecting networkx>=2.2\n  Downloading networkx-2.6.3-py3-none-any.whl (1.9 MB)\n\u001b[K     |████████████████████████████████| 1.9 MB 54.4 MB/s \n\u001b[?25hRequirement already satisfied: pyparsing!=3.0.5,>=2.0.2 in /shared-libs/python3.7/py-core/lib/python3.7/site-packages (from packaging>=20.0->scikit-image>=0.15.0->tensorlayer) (3.0.6)\nInstalling collected packages: python-utils, progressbar2, imageio, cloudpickle, tifffile, PyWavelets, networkx, scikit-image, tensorlayer\nSuccessfully installed PyWavelets-1.2.0 cloudpickle-2.0.0 imageio-2.14.0 networkx-2.6.3 progressbar2-4.0.0 python-utils-3.1.0 scikit-image-0.19.1 tensorlayer-2.2.3 tifffile-2021.11.2\n\u001b[33mWARNING: You are using pip version 20.1.1; however, version 21.3.1 is available.\nYou should consider upgrading via the '/root/venv/bin/python -m pip install --upgrade pip' command.\u001b[0m\n",
     "output_type": "stream"
    }
   ],
   "execution_count": null
  },
  {
   "cell_type": "code",
   "metadata": {
    "tags": [],
    "cell_id": "00003-b7220ec6-b92e-4a64-a5f6-59d0b2f668e9",
    "deepnote_to_be_reexecuted": false,
    "source_hash": "4ea8acb5",
    "execution_start": 1642858389540,
    "execution_millis": 8596,
    "deepnote_cell_type": "code"
   },
   "source": "import tensorflow as tf\nimport tensorlayer as tl\n\nprint(\"Tensorflow version : \",tf.__version__)\nprint(\"Tensorlayer version : \",tl.__version__)",
   "outputs": [
    {
     "name": "stdout",
     "text": "Tensorflow version :  2.4.1\nTensorlayer version :  2.2.3\n",
     "output_type": "stream"
    }
   ],
   "execution_count": null
  },
  {
   "cell_type": "markdown",
   "source": "## Inspiration (vol) d'un chatbot Twitter (https://github.com/suriyadeepan/practical_seq2seq/blob/master/03-Twitter-chatbot.ipynb)",
   "metadata": {
    "tags": [],
    "cell_id": "00004-1eb5433e-56e6-4145-ae6b-9d3a259b7f92",
    "deepnote_cell_type": "markdown"
   }
  },
  {
   "cell_type": "code",
   "metadata": {
    "tags": [],
    "cell_id": "00005-18af72c6-9315-421f-9615-10f597396449",
    "deepnote_to_be_reexecuted": false,
    "source_hash": "80671440",
    "execution_start": 1642858398075,
    "execution_millis": 97139,
    "deepnote_cell_type": "code"
   },
   "source": "!pip install tensorflow==2.7.0\n!pip install tensorflow-addons[tensorflow]\n!pip install datasets.twitter",
   "outputs": [
    {
     "name": "stdout",
     "text": "Collecting tensorflow==2.7.0\n  Downloading tensorflow-2.7.0-cp37-cp37m-manylinux2010_x86_64.whl (489.6 MB)\n\u001b[K     |████████████████████████████████| 489.6 MB 16 kB/s \n\u001b[?25hRequirement already satisfied: grpcio<2.0,>=1.24.3 in /shared-libs/python3.7/py/lib/python3.7/site-packages (from tensorflow==2.7.0) (1.32.0)\nRequirement already satisfied: wheel<1.0,>=0.32.0 in /usr/local/lib/python3.7/site-packages (from tensorflow==2.7.0) (0.37.0)\nRequirement already satisfied: gast<0.5.0,>=0.2.1 in /shared-libs/python3.7/py/lib/python3.7/site-packages (from tensorflow==2.7.0) (0.3.3)\nRequirement already satisfied: google-pasta>=0.1.1 in /shared-libs/python3.7/py/lib/python3.7/site-packages (from tensorflow==2.7.0) (0.2.0)\nRequirement already satisfied: wrapt>=1.11.0 in /shared-libs/python3.7/py/lib/python3.7/site-packages (from tensorflow==2.7.0) (1.12.1)\nRequirement already satisfied: opt-einsum>=2.3.2 in /shared-libs/python3.7/py/lib/python3.7/site-packages (from tensorflow==2.7.0) (3.3.0)\nRequirement already satisfied: h5py>=2.9.0 in /shared-libs/python3.7/py/lib/python3.7/site-packages (from tensorflow==2.7.0) (2.10.0)\nRequirement already satisfied: protobuf>=3.9.2 in /shared-libs/python3.7/py/lib/python3.7/site-packages (from tensorflow==2.7.0) (3.19.1)\nRequirement already satisfied: typing-extensions>=3.6.6 in /shared-libs/python3.7/py-core/lib/python3.7/site-packages (from tensorflow==2.7.0) (4.0.1)\nRequirement already satisfied: keras<2.8,>=2.7.0rc0 in /shared-libs/python3.7/py/lib/python3.7/site-packages (from tensorflow==2.7.0) (2.7.0)\nRequirement already satisfied: absl-py>=0.4.0 in /shared-libs/python3.7/py/lib/python3.7/site-packages (from tensorflow==2.7.0) (0.15.0)\nRequirement already satisfied: flatbuffers<3.0,>=1.12 in /shared-libs/python3.7/py/lib/python3.7/site-packages (from tensorflow==2.7.0) (1.12)\nRequirement already satisfied: termcolor>=1.1.0 in /shared-libs/python3.7/py/lib/python3.7/site-packages (from tensorflow==2.7.0) (1.1.0)\nCollecting tensorflow-estimator<2.8,~=2.7.0rc0\n  Downloading tensorflow_estimator-2.7.0-py2.py3-none-any.whl (463 kB)\n\u001b[K     |████████████████████████████████| 463 kB 42.1 MB/s \n\u001b[?25hCollecting libclang>=9.0.1\n  Downloading libclang-12.0.0-2-py2.py3-none-manylinux1_x86_64.whl (13.3 MB)\n\u001b[K     |████████████████████████████████| 13.3 MB 14.3 MB/s \n\u001b[?25hRequirement already satisfied: keras-preprocessing>=1.1.1 in /shared-libs/python3.7/py/lib/python3.7/site-packages (from tensorflow==2.7.0) (1.1.2)\nRequirement already satisfied: numpy>=1.14.5 in /shared-libs/python3.7/py/lib/python3.7/site-packages (from tensorflow==2.7.0) (1.19.5)\nRequirement already satisfied: six>=1.12.0 in /shared-libs/python3.7/py-core/lib/python3.7/site-packages (from tensorflow==2.7.0) (1.16.0)\nCollecting tensorflow-io-gcs-filesystem>=0.21.0\n  Downloading tensorflow_io_gcs_filesystem-0.23.1-cp37-cp37m-manylinux_2_12_x86_64.manylinux2010_x86_64.whl (2.1 MB)\n\u001b[K     |████████████████████████████████| 2.1 MB 11.0 MB/s \n\u001b[?25hRequirement already satisfied: tensorboard~=2.6 in /shared-libs/python3.7/py/lib/python3.7/site-packages (from tensorflow==2.7.0) (2.7.0)\nRequirement already satisfied: astunparse>=1.6.0 in /shared-libs/python3.7/py/lib/python3.7/site-packages (from tensorflow==2.7.0) (1.6.3)\nRequirement already satisfied: google-auth-oauthlib<0.5,>=0.4.1 in /shared-libs/python3.7/py/lib/python3.7/site-packages (from tensorboard~=2.6->tensorflow==2.7.0) (0.4.6)\nRequirement already satisfied: setuptools>=41.0.0 in /root/venv/lib/python3.7/site-packages (from tensorboard~=2.6->tensorflow==2.7.0) (47.1.0)\nRequirement already satisfied: werkzeug>=0.11.15 in /shared-libs/python3.7/py/lib/python3.7/site-packages (from tensorboard~=2.6->tensorflow==2.7.0) (2.0.2)\nRequirement already satisfied: requests<3,>=2.21.0 in /shared-libs/python3.7/py/lib/python3.7/site-packages (from tensorboard~=2.6->tensorflow==2.7.0) (2.26.0)\nRequirement already satisfied: tensorboard-plugin-wit>=1.6.0 in /shared-libs/python3.7/py/lib/python3.7/site-packages (from tensorboard~=2.6->tensorflow==2.7.0) (1.8.0)\nRequirement already satisfied: tensorboard-data-server<0.7.0,>=0.6.0 in /shared-libs/python3.7/py/lib/python3.7/site-packages (from tensorboard~=2.6->tensorflow==2.7.0) (0.6.1)\nRequirement already satisfied: markdown>=2.6.8 in /shared-libs/python3.7/py/lib/python3.7/site-packages (from tensorboard~=2.6->tensorflow==2.7.0) (3.3.6)\nRequirement already satisfied: google-auth<3,>=1.6.3 in /shared-libs/python3.7/py/lib/python3.7/site-packages (from tensorboard~=2.6->tensorflow==2.7.0) (1.35.0)\nRequirement already satisfied: requests-oauthlib>=0.7.0 in /shared-libs/python3.7/py/lib/python3.7/site-packages (from google-auth-oauthlib<0.5,>=0.4.1->tensorboard~=2.6->tensorflow==2.7.0) (1.3.0)\nRequirement already satisfied: idna<4,>=2.5; python_version >= \"3\" in /shared-libs/python3.7/py-core/lib/python3.7/site-packages (from requests<3,>=2.21.0->tensorboard~=2.6->tensorflow==2.7.0) (3.3)\nRequirement already satisfied: urllib3<1.27,>=1.21.1 in /shared-libs/python3.7/py/lib/python3.7/site-packages (from requests<3,>=2.21.0->tensorboard~=2.6->tensorflow==2.7.0) (1.26.7)\nRequirement already satisfied: certifi>=2017.4.17 in /shared-libs/python3.7/py/lib/python3.7/site-packages (from requests<3,>=2.21.0->tensorboard~=2.6->tensorflow==2.7.0) (2021.10.8)\nRequirement already satisfied: charset-normalizer~=2.0.0; python_version >= \"3\" in /shared-libs/python3.7/py-core/lib/python3.7/site-packages (from requests<3,>=2.21.0->tensorboard~=2.6->tensorflow==2.7.0) (2.0.9)\nRequirement already satisfied: importlib-metadata>=4.4; python_version < \"3.10\" in /shared-libs/python3.7/py-core/lib/python3.7/site-packages (from markdown>=2.6.8->tensorboard~=2.6->tensorflow==2.7.0) (4.8.2)\nRequirement already satisfied: cachetools<5.0,>=2.0.0 in /shared-libs/python3.7/py/lib/python3.7/site-packages (from google-auth<3,>=1.6.3->tensorboard~=2.6->tensorflow==2.7.0) (4.2.4)\nRequirement already satisfied: rsa<5,>=3.1.4; python_version >= \"3.6\" in /shared-libs/python3.7/py/lib/python3.7/site-packages (from google-auth<3,>=1.6.3->tensorboard~=2.6->tensorflow==2.7.0) (4.8)\nRequirement already satisfied: pyasn1-modules>=0.2.1 in /shared-libs/python3.7/py/lib/python3.7/site-packages (from google-auth<3,>=1.6.3->tensorboard~=2.6->tensorflow==2.7.0) (0.2.8)\nRequirement already satisfied: oauthlib>=3.0.0 in /shared-libs/python3.7/py/lib/python3.7/site-packages (from requests-oauthlib>=0.7.0->google-auth-oauthlib<0.5,>=0.4.1->tensorboard~=2.6->tensorflow==2.7.0) (3.1.1)\nRequirement already satisfied: zipp>=0.5 in /shared-libs/python3.7/py-core/lib/python3.7/site-packages (from importlib-metadata>=4.4; python_version < \"3.10\"->markdown>=2.6.8->tensorboard~=2.6->tensorflow==2.7.0) (3.6.0)\nRequirement already satisfied: pyasn1>=0.1.3 in /shared-libs/python3.7/py/lib/python3.7/site-packages (from rsa<5,>=3.1.4; python_version >= \"3.6\"->google-auth<3,>=1.6.3->tensorboard~=2.6->tensorflow==2.7.0) (0.4.8)\nInstalling collected packages: tensorflow-estimator, libclang, tensorflow-io-gcs-filesystem, tensorflow\n  Attempting uninstall: tensorflow-estimator\n    Found existing installation: tensorflow-estimator 2.4.0\n    Not uninstalling tensorflow-estimator at /shared-libs/python3.7/py/lib/python3.7/site-packages, outside environment /root/venv\n    Can't uninstall 'tensorflow-estimator'. No files were found to uninstall.\n  Attempting uninstall: tensorflow\n    Found existing installation: tensorflow 2.4.1\n    Not uninstalling tensorflow at /shared-libs/python3.7/py/lib/python3.7/site-packages, outside environment /root/venv\n    Can't uninstall 'tensorflow'. No files were found to uninstall.\nSuccessfully installed libclang-12.0.0 tensorflow-2.7.0 tensorflow-estimator-2.7.0 tensorflow-io-gcs-filesystem-0.23.1\n\u001b[33mWARNING: You are using pip version 20.1.1; however, version 21.3.1 is available.\nYou should consider upgrading via the '/root/venv/bin/python -m pip install --upgrade pip' command.\u001b[0m\nCollecting tensorflow-addons[tensorflow]\n  Downloading tensorflow_addons-0.15.0-cp37-cp37m-manylinux_2_12_x86_64.manylinux2010_x86_64.whl (1.1 MB)\n\u001b[K     |████████████████████████████████| 1.1 MB 11.1 MB/s \n\u001b[?25hCollecting typeguard>=2.7\n  Downloading typeguard-2.13.3-py3-none-any.whl (17 kB)\nRequirement already satisfied: tensorflow<2.8.0,>=2.5.0; extra == \"tensorflow\" in /root/venv/lib/python3.7/site-packages (from tensorflow-addons[tensorflow]) (2.7.0)\nRequirement already satisfied: wrapt>=1.11.0 in /shared-libs/python3.7/py/lib/python3.7/site-packages (from tensorflow<2.8.0,>=2.5.0; extra == \"tensorflow\"->tensorflow-addons[tensorflow]) (1.12.1)\nRequirement already satisfied: grpcio<2.0,>=1.24.3 in /shared-libs/python3.7/py/lib/python3.7/site-packages (from tensorflow<2.8.0,>=2.5.0; extra == \"tensorflow\"->tensorflow-addons[tensorflow]) (1.32.0)\nRequirement already satisfied: astunparse>=1.6.0 in /shared-libs/python3.7/py/lib/python3.7/site-packages (from tensorflow<2.8.0,>=2.5.0; extra == \"tensorflow\"->tensorflow-addons[tensorflow]) (1.6.3)\nRequirement already satisfied: opt-einsum>=2.3.2 in /shared-libs/python3.7/py/lib/python3.7/site-packages (from tensorflow<2.8.0,>=2.5.0; extra == \"tensorflow\"->tensorflow-addons[tensorflow]) (3.3.0)\nRequirement already satisfied: absl-py>=0.4.0 in /shared-libs/python3.7/py/lib/python3.7/site-packages (from tensorflow<2.8.0,>=2.5.0; extra == \"tensorflow\"->tensorflow-addons[tensorflow]) (0.15.0)\nRequirement already satisfied: h5py>=2.9.0 in /shared-libs/python3.7/py/lib/python3.7/site-packages (from tensorflow<2.8.0,>=2.5.0; extra == \"tensorflow\"->tensorflow-addons[tensorflow]) (2.10.0)\nRequirement already satisfied: libclang>=9.0.1 in /root/venv/lib/python3.7/site-packages (from tensorflow<2.8.0,>=2.5.0; extra == \"tensorflow\"->tensorflow-addons[tensorflow]) (12.0.0)\nRequirement already satisfied: numpy>=1.14.5 in /shared-libs/python3.7/py/lib/python3.7/site-packages (from tensorflow<2.8.0,>=2.5.0; extra == \"tensorflow\"->tensorflow-addons[tensorflow]) (1.19.5)\nRequirement already satisfied: flatbuffers<3.0,>=1.12 in /shared-libs/python3.7/py/lib/python3.7/site-packages (from tensorflow<2.8.0,>=2.5.0; extra == \"tensorflow\"->tensorflow-addons[tensorflow]) (1.12)\nRequirement already satisfied: google-pasta>=0.1.1 in /shared-libs/python3.7/py/lib/python3.7/site-packages (from tensorflow<2.8.0,>=2.5.0; extra == \"tensorflow\"->tensorflow-addons[tensorflow]) (0.2.0)\nRequirement already satisfied: wheel<1.0,>=0.32.0 in /usr/local/lib/python3.7/site-packages (from tensorflow<2.8.0,>=2.5.0; extra == \"tensorflow\"->tensorflow-addons[tensorflow]) (0.37.0)\nRequirement already satisfied: six>=1.12.0 in /shared-libs/python3.7/py-core/lib/python3.7/site-packages (from tensorflow<2.8.0,>=2.5.0; extra == \"tensorflow\"->tensorflow-addons[tensorflow]) (1.16.0)\nRequirement already satisfied: termcolor>=1.1.0 in /shared-libs/python3.7/py/lib/python3.7/site-packages (from tensorflow<2.8.0,>=2.5.0; extra == \"tensorflow\"->tensorflow-addons[tensorflow]) (1.1.0)\nRequirement already satisfied: keras<2.8,>=2.7.0rc0 in /shared-libs/python3.7/py/lib/python3.7/site-packages (from tensorflow<2.8.0,>=2.5.0; extra == \"tensorflow\"->tensorflow-addons[tensorflow]) (2.7.0)\nRequirement already satisfied: tensorboard~=2.6 in /shared-libs/python3.7/py/lib/python3.7/site-packages (from tensorflow<2.8.0,>=2.5.0; extra == \"tensorflow\"->tensorflow-addons[tensorflow]) (2.7.0)\nRequirement already satisfied: tensorflow-estimator<2.8,~=2.7.0rc0 in /root/venv/lib/python3.7/site-packages (from tensorflow<2.8.0,>=2.5.0; extra == \"tensorflow\"->tensorflow-addons[tensorflow]) (2.7.0)\nRequirement already satisfied: typing-extensions>=3.6.6 in /shared-libs/python3.7/py-core/lib/python3.7/site-packages (from tensorflow<2.8.0,>=2.5.0; extra == \"tensorflow\"->tensorflow-addons[tensorflow]) (4.0.1)\nRequirement already satisfied: keras-preprocessing>=1.1.1 in /shared-libs/python3.7/py/lib/python3.7/site-packages (from tensorflow<2.8.0,>=2.5.0; extra == \"tensorflow\"->tensorflow-addons[tensorflow]) (1.1.2)\nRequirement already satisfied: gast<0.5.0,>=0.2.1 in /shared-libs/python3.7/py/lib/python3.7/site-packages (from tensorflow<2.8.0,>=2.5.0; extra == \"tensorflow\"->tensorflow-addons[tensorflow]) (0.3.3)\nRequirement already satisfied: tensorflow-io-gcs-filesystem>=0.21.0 in /root/venv/lib/python3.7/site-packages (from tensorflow<2.8.0,>=2.5.0; extra == \"tensorflow\"->tensorflow-addons[tensorflow]) (0.23.1)\nRequirement already satisfied: protobuf>=3.9.2 in /shared-libs/python3.7/py/lib/python3.7/site-packages (from tensorflow<2.8.0,>=2.5.0; extra == \"tensorflow\"->tensorflow-addons[tensorflow]) (3.19.1)\nRequirement already satisfied: tensorboard-plugin-wit>=1.6.0 in /shared-libs/python3.7/py/lib/python3.7/site-packages (from tensorboard~=2.6->tensorflow<2.8.0,>=2.5.0; extra == \"tensorflow\"->tensorflow-addons[tensorflow]) (1.8.0)\nRequirement already satisfied: markdown>=2.6.8 in /shared-libs/python3.7/py/lib/python3.7/site-packages (from tensorboard~=2.6->tensorflow<2.8.0,>=2.5.0; extra == \"tensorflow\"->tensorflow-addons[tensorflow]) (3.3.6)\nRequirement already satisfied: requests<3,>=2.21.0 in /shared-libs/python3.7/py/lib/python3.7/site-packages (from tensorboard~=2.6->tensorflow<2.8.0,>=2.5.0; extra == \"tensorflow\"->tensorflow-addons[tensorflow]) (2.26.0)\nRequirement already satisfied: google-auth-oauthlib<0.5,>=0.4.1 in /shared-libs/python3.7/py/lib/python3.7/site-packages (from tensorboard~=2.6->tensorflow<2.8.0,>=2.5.0; extra == \"tensorflow\"->tensorflow-addons[tensorflow]) (0.4.6)\nRequirement already satisfied: setuptools>=41.0.0 in /root/venv/lib/python3.7/site-packages (from tensorboard~=2.6->tensorflow<2.8.0,>=2.5.0; extra == \"tensorflow\"->tensorflow-addons[tensorflow]) (47.1.0)\nRequirement already satisfied: google-auth<3,>=1.6.3 in /shared-libs/python3.7/py/lib/python3.7/site-packages (from tensorboard~=2.6->tensorflow<2.8.0,>=2.5.0; extra == \"tensorflow\"->tensorflow-addons[tensorflow]) (1.35.0)\nRequirement already satisfied: tensorboard-data-server<0.7.0,>=0.6.0 in /shared-libs/python3.7/py/lib/python3.7/site-packages (from tensorboard~=2.6->tensorflow<2.8.0,>=2.5.0; extra == \"tensorflow\"->tensorflow-addons[tensorflow]) (0.6.1)\nRequirement already satisfied: werkzeug>=0.11.15 in /shared-libs/python3.7/py/lib/python3.7/site-packages (from tensorboard~=2.6->tensorflow<2.8.0,>=2.5.0; extra == \"tensorflow\"->tensorflow-addons[tensorflow]) (2.0.2)\nRequirement already satisfied: importlib-metadata>=4.4; python_version < \"3.10\" in /shared-libs/python3.7/py-core/lib/python3.7/site-packages (from markdown>=2.6.8->tensorboard~=2.6->tensorflow<2.8.0,>=2.5.0; extra == \"tensorflow\"->tensorflow-addons[tensorflow]) (4.8.2)\nRequirement already satisfied: charset-normalizer~=2.0.0; python_version >= \"3\" in /shared-libs/python3.7/py-core/lib/python3.7/site-packages (from requests<3,>=2.21.0->tensorboard~=2.6->tensorflow<2.8.0,>=2.5.0; extra == \"tensorflow\"->tensorflow-addons[tensorflow]) (2.0.9)\nRequirement already satisfied: certifi>=2017.4.17 in /shared-libs/python3.7/py/lib/python3.7/site-packages (from requests<3,>=2.21.0->tensorboard~=2.6->tensorflow<2.8.0,>=2.5.0; extra == \"tensorflow\"->tensorflow-addons[tensorflow]) (2021.10.8)\nRequirement already satisfied: urllib3<1.27,>=1.21.1 in /shared-libs/python3.7/py/lib/python3.7/site-packages (from requests<3,>=2.21.0->tensorboard~=2.6->tensorflow<2.8.0,>=2.5.0; extra == \"tensorflow\"->tensorflow-addons[tensorflow]) (1.26.7)\nRequirement already satisfied: idna<4,>=2.5; python_version >= \"3\" in /shared-libs/python3.7/py-core/lib/python3.7/site-packages (from requests<3,>=2.21.0->tensorboard~=2.6->tensorflow<2.8.0,>=2.5.0; extra == \"tensorflow\"->tensorflow-addons[tensorflow]) (3.3)\nRequirement already satisfied: requests-oauthlib>=0.7.0 in /shared-libs/python3.7/py/lib/python3.7/site-packages (from google-auth-oauthlib<0.5,>=0.4.1->tensorboard~=2.6->tensorflow<2.8.0,>=2.5.0; extra == \"tensorflow\"->tensorflow-addons[tensorflow]) (1.3.0)\nRequirement already satisfied: rsa<5,>=3.1.4; python_version >= \"3.6\" in /shared-libs/python3.7/py/lib/python3.7/site-packages (from google-auth<3,>=1.6.3->tensorboard~=2.6->tensorflow<2.8.0,>=2.5.0; extra == \"tensorflow\"->tensorflow-addons[tensorflow]) (4.8)\nRequirement already satisfied: pyasn1-modules>=0.2.1 in /shared-libs/python3.7/py/lib/python3.7/site-packages (from google-auth<3,>=1.6.3->tensorboard~=2.6->tensorflow<2.8.0,>=2.5.0; extra == \"tensorflow\"->tensorflow-addons[tensorflow]) (0.2.8)\nRequirement already satisfied: cachetools<5.0,>=2.0.0 in /shared-libs/python3.7/py/lib/python3.7/site-packages (from google-auth<3,>=1.6.3->tensorboard~=2.6->tensorflow<2.8.0,>=2.5.0; extra == \"tensorflow\"->tensorflow-addons[tensorflow]) (4.2.4)\nRequirement already satisfied: zipp>=0.5 in /shared-libs/python3.7/py-core/lib/python3.7/site-packages (from importlib-metadata>=4.4; python_version < \"3.10\"->markdown>=2.6.8->tensorboard~=2.6->tensorflow<2.8.0,>=2.5.0; extra == \"tensorflow\"->tensorflow-addons[tensorflow]) (3.6.0)\nRequirement already satisfied: oauthlib>=3.0.0 in /shared-libs/python3.7/py/lib/python3.7/site-packages (from requests-oauthlib>=0.7.0->google-auth-oauthlib<0.5,>=0.4.1->tensorboard~=2.6->tensorflow<2.8.0,>=2.5.0; extra == \"tensorflow\"->tensorflow-addons[tensorflow]) (3.1.1)\nRequirement already satisfied: pyasn1>=0.1.3 in /shared-libs/python3.7/py/lib/python3.7/site-packages (from rsa<5,>=3.1.4; python_version >= \"3.6\"->google-auth<3,>=1.6.3->tensorboard~=2.6->tensorflow<2.8.0,>=2.5.0; extra == \"tensorflow\"->tensorflow-addons[tensorflow]) (0.4.8)\nInstalling collected packages: typeguard, tensorflow-addons\nSuccessfully installed tensorflow-addons-0.15.0 typeguard-2.13.3\n\u001b[33mWARNING: You are using pip version 20.1.1; however, version 21.3.1 is available.\nYou should consider upgrading via the '/root/venv/bin/python -m pip install --upgrade pip' command.\u001b[0m\n\u001b[31mERROR: Could not find a version that satisfies the requirement datasets.twitter (from versions: none)\u001b[0m\n\u001b[31mERROR: No matching distribution found for datasets.twitter\u001b[0m\n\u001b[33mWARNING: You are using pip version 20.1.1; however, version 21.3.1 is available.\nYou should consider upgrading via the '/root/venv/bin/python -m pip install --upgrade pip' command.\u001b[0m\n",
     "output_type": "stream"
    }
   ],
   "execution_count": null
  },
  {
   "cell_type": "code",
   "metadata": {
    "tags": [],
    "cell_id": "00004-fb923b5f-171e-4b11-84c3-90e89c8d9740",
    "deepnote_to_be_reexecuted": false,
    "source_hash": "3880c2a",
    "execution_start": 1642858495225,
    "execution_millis": 1235,
    "deepnote_cell_type": "code"
   },
   "source": "import tensorflow as tf\nimport numpy as np\n\n# preprocessed data\n# /work/datasets/twitter/data.py\nfrom work.datasets.twitter import data\nfrom work import data_utils",
   "outputs": [],
   "execution_count": null
  },
  {
   "cell_type": "code",
   "metadata": {
    "tags": [],
    "cell_id": "00005-83b8151f-ad43-49bc-8e50-10472fbd78f0",
    "deepnote_to_be_reexecuted": false,
    "source_hash": "e7120468",
    "execution_start": 1642858496468,
    "execution_millis": 246,
    "deepnote_cell_type": "code"
   },
   "source": "# load data from pickle and npy files\nmetadata, idx_q, idx_a = data.load_data(PATH='datasets/twitter/')\n(trainX, trainY), (testX, testY), (validX, validY) = data_utils.split_dataset(idx_q, idx_a)",
   "outputs": [],
   "execution_count": null
  },
  {
   "cell_type": "code",
   "metadata": {
    "tags": [],
    "cell_id": "00006-b3a4014e-2934-417d-a4f6-d17e25358ba0",
    "deepnote_to_be_reexecuted": false,
    "source_hash": "29931be0",
    "execution_start": 1642858496719,
    "execution_millis": 9,
    "deepnote_cell_type": "code"
   },
   "source": "# parameters \nxseq_len = trainX.shape[-1]\nyseq_len = trainY.shape[-1]\nbatch_size = 16\nxvocab_size = len(metadata['idx2w'])  \nyvocab_size = xvocab_size\nemb_dim = 1024",
   "outputs": [],
   "execution_count": null
  },
  {
   "cell_type": "code",
   "metadata": {
    "tags": [],
    "cell_id": "00007-e99a074f-122c-4b6e-b8f8-d28390c2a2ff",
    "deepnote_to_be_reexecuted": false,
    "source_hash": "a3e5f604",
    "execution_start": 1642858756614,
    "execution_millis": 345,
    "deepnote_cell_type": "code"
   },
   "source": "import seq2seq_wrapper",
   "outputs": [
    {
     "name": "stderr",
     "text": "/root/venv/lib/python3.7/site-packages/tensorflow_addons/utils/ensure_tf_install.py:67: UserWarning: Tensorflow Addons supports using Python ops for all Tensorflow versions above or equal to 2.5.0 and strictly below 2.8.0 (nightly versions are not supported). \n The versions of TensorFlow you are currently using is 2.4.1 and is not supported. \nSome things might work, some things might not.\nIf you were to encounter a bug, do not file an issue.\nIf you want to make sure you're using a tested and supported configuration, either change the TensorFlow version or the TensorFlow Addons's version. \nYou can find the compatibility matrix in TensorFlow Addon's readme:\nhttps://github.com/tensorflow/addons\n  UserWarning,\n",
     "output_type": "stream"
    }
   ],
   "execution_count": null
  },
  {
   "cell_type": "code",
   "metadata": {
    "tags": [],
    "cell_id": "00008-1fadf986-7a04-484a-97a5-ecdfcf13d219",
    "deepnote_to_be_reexecuted": false,
    "source_hash": "dcd672f1",
    "execution_start": 1642862603480,
    "execution_millis": 2,
    "deepnote_output_heights": [
     21.1875
    ],
    "deepnote_cell_type": "code"
   },
   "source": "import importlib\nimportlib.reload(seq2seq_wrapper)",
   "outputs": [
    {
     "output_type": "execute_result",
     "execution_count": 25,
     "data": {
      "text/plain": "<module 'seq2seq_wrapper' from '/work/seq2seq_wrapper.py'>"
     },
     "metadata": {}
    }
   ],
   "execution_count": null
  },
  {
   "cell_type": "code",
   "metadata": {
    "tags": [],
    "cell_id": "00010-b75d8406-a7c0-4f54-a5e1-e645458ed3dd",
    "deepnote_to_be_reexecuted": false,
    "source_hash": "77a482c7",
    "execution_start": 1642862605082,
    "execution_millis": 111,
    "deepnote_output_heights": [
     null,
     40
    ],
    "deepnote_cell_type": "code"
   },
   "source": "model = seq2seq_wrapper.Seq2Seq(xseq_len=xseq_len,\n                               yseq_len=yseq_len,\n                               xvocab_size=xvocab_size,\n                               yvocab_size=yvocab_size,\n                               ckpt_path='ckpt/twitter/',\n                               emb_dim=emb_dim,\n                               num_layers=3\n                               )",
   "outputs": [
    {
     "name": "stdout",
     "text": "<log> Building Graph ",
     "output_type": "stream"
    },
    {
     "output_type": "error",
     "ename": "KernelInterrupted",
     "evalue": "Execution interrupted by the Jupyter kernel.",
     "traceback": [
      "\u001b[0;31m---------------------------------------------------------------------------\u001b[0m",
      "\u001b[0;31mKernelInterrupted\u001b[0m: Execution interrupted by the Jupyter kernel."
     ]
    }
   ],
   "execution_count": null
  },
  {
   "cell_type": "code",
   "metadata": {
    "tags": [],
    "cell_id": "00011-46439078-8dab-42ad-8a78-7d8f8145f9dc",
    "deepnote_cell_type": "code"
   },
   "source": "val_batch_gen = data_utils.rand_batch_gen(validX, validY, 256)\ntest_batch_gen = data_utils.rand_batch_gen(testX, testY, 256)\ntrain_batch_gen = data_utils.rand_batch_gen(trainX, trainY, batch_size)",
   "execution_count": null,
   "outputs": []
  },
  {
   "cell_type": "code",
   "metadata": {
    "tags": [],
    "cell_id": "00012-4579ed31-5be2-4341-839e-3c0a8dce8763",
    "deepnote_cell_type": "code"
   },
   "source": "sess = model.train(train_batch_gen, val_batch_gen)",
   "execution_count": null,
   "outputs": []
  },
  {
   "cell_type": "code",
   "metadata": {
    "tags": [],
    "cell_id": "00013-280fa781-9f8d-4975-b818-4152ff7b93ea",
    "deepnote_cell_type": "code"
   },
   "source": "sess = model.restore_last_session()",
   "execution_count": null,
   "outputs": []
  },
  {
   "cell_type": "code",
   "metadata": {
    "tags": [],
    "cell_id": "00014-bffaaf34-55c4-48d3-834f-2929a97d90fa",
    "deepnote_cell_type": "code"
   },
   "source": "input_ = test_batch_gen.__next__()[0]\noutput = model.predict(sess, input_)\nprint(output.shape)",
   "execution_count": null,
   "outputs": []
  },
  {
   "cell_type": "code",
   "metadata": {
    "tags": [],
    "cell_id": "00015-887b8f1e-c953-4cdc-a862-6339edb3fd20",
    "deepnote_cell_type": "code"
   },
   "source": "replies = []\nfor ii, oi in zip(input_.T, output):\n    q = data_utils.decode(sequence=ii, lookup=metadata['idx2w'], separator=' ')\n    decoded = data_utils.decode(sequence=oi, lookup=metadata['idx2w'], separator=' ').split(' ')\n    if decoded.count('unk') == 0:\n        if decoded not in replies:\n            print('q : [{0}]; a : [{1}]'.format(q, ' '.join(decoded)))\n            replies.append(decoded)",
   "execution_count": null,
   "outputs": []
  },
  {
   "cell_type": "markdown",
   "source": "<a style='text-decoration:none;line-height:16px;display:flex;color:#5B5B62;padding:10px;justify-content:end;' href='https://deepnote.com?utm_source=created-in-deepnote-cell&projectId=6a5bfce1-7e75-414c-b298-2f108ab8125e' target=\"_blank\">\n<img alt='Created in deepnote.com' style='display:inline;max-height:16px;margin:0px;margin-right:7.5px;' src='data:image/svg+xml;base64,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' > </img>\nCreated in <span style='font-weight:600;margin-left:4px;'>Deepnote</span></a>",
   "metadata": {
    "tags": [],
    "created_in_deepnote_cell": true,
    "deepnote_cell_type": "markdown"
   }
  }
 ],
 "nbformat": 4,
 "nbformat_minor": 2,
 "metadata": {
  "deepnoteSessionId": "dea8a0f5-35e3-4468-94eb-804ff5fc7baa",
  "kernelspec": {
   "display_name": "Python 3",
   "language": "python",
   "name": "python3"
  },
  "language_info": {
   "codemirror_mode": {
    "name": "ipython",
    "version": 3
   },
   "file_extension": ".py",
   "mimetype": "text/x-python",
   "name": "python",
   "nbconvert_exporter": "python",
   "pygments_lexer": "ipython3",
   "version": "3.7.5"
  },
  "deepnote_execution_queue": [],
  "deepnote_notebook_id": "0f460af1-1872-4aa4-804e-36716dbf15fd",
  "deepnote": {}
 }
}